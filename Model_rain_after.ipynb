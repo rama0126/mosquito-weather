{
 "cells": [
  {
   "cell_type": "markdown",
   "metadata": {},
   "source": [
    "강수 후 모기채집량 증가율 모델"
   ]
  },
  {
   "cell_type": "code",
   "execution_count": 2,
   "metadata": {},
   "outputs": [],
   "source": [
    "%matplotlib inline\n",
    "import matplotlib.pyplot as plt\n",
    "import numpy as np\n",
    "import pandas as pd\n",
    "import gettempdata as gt\n",
    "import getmosdata as gm\n",
    "import getraindata as gr\n",
    "import seaborn as sns\n",
    "import scipy.stats\n",
    "from sklearn import datasets, linear_model\n",
    "from sklearn.metrics import mean_squared_error, r2_score\n",
    "from sklearn.tree import DecisionTreeClassifier\n",
    "from sklearn.datasets import load_digits\n",
    "from sklearn.model_selection import train_test_split\n",
    "from sklearn.metrics import accuracy_score\n",
    "from sklearn.ensemble import GradientBoostingRegressor\n",
    "from sklearn.preprocessing import PolynomialFeatures\n",
    "from sklearn.pipeline import Pipeline\n",
    "from sklearn.linear_model import LinearRegression\n",
    "from sklearn.linear_model import Perceptron\n",
    "from sklearn.gaussian_process.kernels import ConstantKernel, RBF\n",
    "from sklearn.naive_bayes import GaussianNB\n",
    "from sklearn.linear_model import (\n",
    "    LinearRegression, TheilSenRegressor, RANSACRegressor, HuberRegressor)\n",
    "from sklearn.metrics import mean_squared_error\n",
    "from sklearn.preprocessing import PolynomialFeatures\n",
    "from sklearn.pipeline import make_pipeline\n",
    "from sklearn.metrics import accuracy_score\n",
    "from sklearn.linear_model import BayesianRidge\n",
    "from sklearn.preprocessing import PolynomialFeatures\n",
    "from sklearn.linear_model import LinearRegression\n",
    "from sklearn.pipeline import make_pipeline"
   ]
  },
  {
   "cell_type": "markdown",
   "metadata": {},
   "source": [
    "데이터 전처리"
   ]
  },
  {
   "cell_type": "code",
   "execution_count": 3,
   "metadata": {},
   "outputs": [],
   "source": [
    "temp=gt.get_temp_data()\n",
    "temp.tempinfo()\n",
    "avgtempdata=temp.avgtemp\n",
    "maxtempdata=temp.maxtemp\n",
    "mintempdata=temp.mintemp\n",
    "mos = gm.get_mos_data()\n",
    "mos.mosinfo()\n",
    "mosdata = mos.mos\n",
    "rain = gr.get_rain_data()\n",
    "rain.raininfo()\n",
    "raindata=rain.precipitation\n"
   ]
  },
  {
   "cell_type": "code",
   "execution_count": 9,
   "metadata": {},
   "outputs": [],
   "source": [
    "k=np.zeros(209)\n",
    "k=np.where(k==0,'2019','')\n",
    "data= mosdata['2019']\n",
    "d2019=pd.DataFrame({\"mos\": data, \"year\":k})\n",
    "k=np.zeros(209)\n",
    "k=np.where(k==0,'2018','')\n",
    "data= mosdata['2018']\n",
    "d2018=pd.DataFrame({\"mos\": data, \"year\":k})\n",
    "k=np.zeros(209)\n",
    "k=np.where(k==0,'2017','')\n",
    "data= mosdata['2017']\n",
    "d2017=pd.DataFrame({\"mos\": data, \"year\":k})\n",
    "k=np.zeros(209)\n",
    "k=np.where(k==0,'2016','')\n",
    "data= mosdata['2016']\n",
    "d2016=pd.DataFrame({\"mos\": data, \"year\":k})\n",
    "k=np.zeros(209)\n",
    "k=np.where(k==0,'2015','')\n",
    "data= mosdata['2015']\n",
    "d2015=pd.DataFrame({\"mos\": data, \"year\":k})\n",
    "smosdata=pd.concat([d2019,d2018,d2017,d2016,d2015])\n",
    "\n",
    "\n",
    "data= avgtempdata['2019'][96:-61]\n",
    "t2019=pd.DataFrame({\"temp\": data})\n",
    "data= avgtempdata['2018'][96:-61]\n",
    "t2018=pd.DataFrame({\"temp\": data})\n",
    "data= avgtempdata['2017'][96:-61]\n",
    "t2017=pd.DataFrame({\"temp\": data})\n",
    "data= avgtempdata['2016'][96:-61]\n",
    "t2016=pd.DataFrame({\"temp\": data})\n",
    "data= avgtempdata['2015'][96:-61]\n",
    "t2015=pd.DataFrame({\"temp\": data})\n",
    "savgtempdata=pd.concat([t2019,t2018,t2017,t2016,t2015])\n",
    "\n",
    "data= raindata['2019'][96:-61]\n",
    "r2019=pd.DataFrame({\"rain\": data})\n",
    "data= raindata['2018'][96:-61]\n",
    "r2018=pd.DataFrame({\"rain\": data})\n",
    "data= raindata['2017'][96:-61]\n",
    "r2017=pd.DataFrame({\"rain\": data})\n",
    "data= raindata['2016'][96:-61]\n",
    "r2016=pd.DataFrame({\"rain\": data})\n",
    "data= raindata['2015'][96:-61]\n",
    "r2015=pd.DataFrame({\"rain\": data})\n",
    "sraindata=pd.concat([r2019,r2018,r2017,r2016,r2015])\n",
    "\n",
    "data=pd.concat([savgtempdata,smosdata,sraindata],axis=1)"
   ]
  },
  {
   "cell_type": "code",
   "execution_count": 10,
   "metadata": {},
   "outputs": [],
   "source": [
    "pdata=data.query(\"rain>0\")\n",
    "\n",
    "nprain = np.where(data['rain']>0)\n",
    "rain=[]\n",
    "raint=[[],[],[],[],[],[],[],[],[],[],[],[],[],[],[],[],[],[],[],[],[],[],[],[],[],[],[],[],[],[],[],[],[],[],[],[],[],[],[],[],[],[],[],[],[],[],[],[],[],[],[],[],[],[],[],[],[],[],[],[],[],[],[],[]]\n",
    "srain=[[],[],[],[],[],[],[],[],[],[],[],[],[],[],[],[],[],[],[],[],[],[],[],[],[],[],[],[],[],[],[],[],[],[],[],[],[],[],[],[],[],[],[],[],[],[],[],[],[],[],[],[],[],[],[],[],[],[],[],[],[],[],[],[]]\n",
    "for i in nprain[0]:\n",
    "    rain.append(i)\n",
    "    for j in range(0,61):\n",
    "        k=i+j\n",
    "        if k < data['rain'].size:\n",
    "            raint[j].append(k)"
   ]
  },
  {
   "cell_type": "code",
   "execution_count": 11,
   "metadata": {},
   "outputs": [],
   "source": [
    "srain[0]=data['mos'].iloc[rain].reset_index()['mos'].astype(float)\n",
    "srain[1]=data['mos'].iloc[raint[0]].reset_index()['mos'].astype(float)\n",
    "srain[2]=data['mos'].iloc[raint[1]].reset_index()['mos'].astype(float)\n",
    "srain[3]=data['mos'].iloc[raint[2]].reset_index()['mos'].astype(float)\n",
    "srain[4]=data['mos'].iloc[raint[3]].reset_index()['mos'].astype(float)\n",
    "srain[5]=data['mos'].iloc[raint[4]].reset_index()['mos'].astype(float)\n",
    "srain[6]=data['mos'].iloc[raint[5]].reset_index()['mos'].astype(float)\n",
    "srain[7]=data['mos'].iloc[raint[6]].reset_index()['mos'].astype(float)\n",
    "srain[8]=data['mos'].iloc[raint[7]].reset_index()['mos'].astype(float)\n",
    "srain[9]=data['mos'].iloc[raint[8]].reset_index()['mos'].astype(float)\n",
    "srain[10]=data['mos'].iloc[raint[9]].reset_index()['mos'].astype(float)\n",
    "srain[11]=data['mos'].iloc[raint[10]].reset_index()['mos'].astype(float)\n",
    "srain[12]=data['mos'].iloc[raint[11]].reset_index()['mos'].astype(float)\n",
    "srain[13]=data['mos'].iloc[raint[12]].reset_index()['mos'].astype(float)\n",
    "srain[14]=data['mos'].iloc[raint[13]].reset_index()['mos'].astype(float)\n",
    "srain[15]=data['mos'].iloc[raint[14]].reset_index()['mos'].astype(float)\n",
    "srain[16]=data['mos'].iloc[raint[15]].reset_index()['mos'].astype(float)\n",
    "srain[17]=data['mos'].iloc[raint[16]].reset_index()['mos'].astype(float)\n",
    "srain[18]=data['mos'].iloc[raint[17]].reset_index()['mos'].astype(float)\n",
    "srain[19]=data['mos'].iloc[raint[18]].reset_index()['mos'].astype(float)\n",
    "srain[20]=data['mos'].iloc[raint[19]].reset_index()['mos'].astype(float)\n",
    "srain[21]=data['mos'].iloc[raint[20]].reset_index()['mos'].astype(float)\n",
    "srain[22]=data['mos'].iloc[raint[21]].reset_index()['mos'].astype(float)\n",
    "srain[23]=data['mos'].iloc[raint[22]].reset_index()['mos'].astype(float)\n",
    "srain[24]=data['mos'].iloc[raint[23]].reset_index()['mos'].astype(float)\n",
    "srain[25]=data['mos'].iloc[raint[24]].reset_index()['mos'].astype(float)\n",
    "srain[26]=data['mos'].iloc[raint[25]].reset_index()['mos'].astype(float)\n",
    "srain[27]=data['mos'].iloc[raint[26]].reset_index()['mos'].astype(float)\n",
    "srain[28]=data['mos'].iloc[raint[27]].reset_index()['mos'].astype(float)\n",
    "srain[29]=data['mos'].iloc[raint[28]].reset_index()['mos'].astype(float)\n",
    "srain[30]=data['mos'].iloc[raint[29]].reset_index()['mos'].astype(float)\n",
    "srain[31]=data['mos'].iloc[raint[30]].reset_index()['mos'].astype(float)\n",
    "srain[32]=data['mos'].iloc[raint[31]].reset_index()['mos'].astype(float)\n",
    "srain[33]=data['mos'].iloc[raint[32]].reset_index()['mos'].astype(float)\n",
    "srain[34]=data['mos'].iloc[raint[33]].reset_index()['mos'].astype(float)\n",
    "srain[35]=data['mos'].iloc[raint[34]].reset_index()['mos'].astype(float)\n",
    "srain[36]=data['mos'].iloc[raint[35]].reset_index()['mos'].astype(float)\n",
    "srain[37]=data['mos'].iloc[raint[36]].reset_index()['mos'].astype(float)\n",
    "srain[38]=data['mos'].iloc[raint[37]].reset_index()['mos'].astype(float)\n",
    "srain[39]=data['mos'].iloc[raint[38]].reset_index()['mos'].astype(float)\n",
    "srain[40]=data['mos'].iloc[raint[39]].reset_index()['mos'].astype(float)\n",
    "srain[41]=data['mos'].iloc[raint[40]].reset_index()['mos'].astype(float)\n",
    "srain[42]=data['mos'].iloc[raint[41]].reset_index()['mos'].astype(float)\n",
    "srain[43]=data['mos'].iloc[raint[42]].reset_index()['mos'].astype(float)\n",
    "srain[44]=data['mos'].iloc[raint[43]].reset_index()['mos'].astype(float)\n",
    "srain44=data['mos'].iloc[raint[44]].reset_index()['mos'].astype(float)\n",
    "srain45=data['mos'].iloc[raint[45]].reset_index()['mos'].astype(float)\n",
    "srain46=data['mos'].iloc[raint[46]].reset_index()['mos'].astype(float)\n",
    "srain47=data['mos'].iloc[raint[47]].reset_index()['mos'].astype(float)\n",
    "srain48=data['mos'].iloc[raint[48]].reset_index()['mos'].astype(float)\n",
    "srain49=data['mos'].iloc[raint[49]].reset_index()['mos'].astype(float)\n",
    "srain50=data['mos'].iloc[raint[50]].reset_index()['mos'].astype(float)\n",
    "srain51=data['mos'].iloc[raint[51]].reset_index()['mos'].astype(float)\n",
    "srain52=data['mos'].iloc[raint[52]].reset_index()['mos'].astype(float)\n",
    "srain53=data['mos'].iloc[raint[53]].reset_index()['mos'].astype(float)\n",
    "srain54=data['mos'].iloc[raint[54]].reset_index()['mos'].astype(float)\n",
    "srain55=data['mos'].iloc[raint[55]].reset_index()['mos'].astype(float)\n",
    "srain56=data['mos'].iloc[raint[56]].reset_index()['mos'].astype(float)\n",
    "srain57=data['mos'].iloc[raint[57]].reset_index()['mos'].astype(float)\n",
    "srain58=data['mos'].iloc[raint[58]].reset_index()['mos'].astype(float)\n",
    "srain59=data['mos'].iloc[raint[59]].reset_index()['mos'].astype(float)\n",
    "srain60=data['mos'].iloc[raint[60]].reset_index()['mos'].astype(float)"
   ]
  },
  {
   "cell_type": "code",
   "execution_count": 12,
   "metadata": {},
   "outputs": [],
   "source": [
    "\n",
    "srain0=data['mos'].iloc[raint[0]].reset_index()['mos'].astype(float)\n",
    "srain1=data['mos'].iloc[raint[1]].reset_index()['mos'].astype(float)\n",
    "srain2=data['mos'].iloc[raint[2]].reset_index()['mos'].astype(float)\n",
    "srain3=data['mos'].iloc[raint[3]].reset_index()['mos'].astype(float)\n",
    "srain4=data['mos'].iloc[raint[4]].reset_index()['mos'].astype(float)\n",
    "srain5=data['mos'].iloc[raint[5]].reset_index()['mos'].astype(float)\n",
    "srain6=data['mos'].iloc[raint[6]].reset_index()['mos'].astype(float)\n",
    "srain7=data['mos'].iloc[raint[7]].reset_index()['mos'].astype(float)\n",
    "srain8=data['mos'].iloc[raint[8]].reset_index()['mos'].astype(float)\n",
    "srain9=data['mos'].iloc[raint[9]].reset_index()['mos'].astype(float)\n",
    "srain10=data['mos'].iloc[raint[10]].reset_index()['mos'].astype(float)\n",
    "srain11=data['mos'].iloc[raint[11]].reset_index()['mos'].astype(float)\n",
    "srain12=data['mos'].iloc[raint[12]].reset_index()['mos'].astype(float)\n",
    "srain13=data['mos'].iloc[raint[13]].reset_index()['mos'].astype(float)\n",
    "srain14=data['mos'].iloc[raint[14]].reset_index()['mos'].astype(float)\n",
    "srain15=data['mos'].iloc[raint[15]].reset_index()['mos'].astype(float)\n",
    "srain16=data['mos'].iloc[raint[16]].reset_index()['mos'].astype(float)\n",
    "srain17=data['mos'].iloc[raint[17]].reset_index()['mos'].astype(float)\n",
    "srain18=data['mos'].iloc[raint[18]].reset_index()['mos'].astype(float)\n",
    "srain19=data['mos'].iloc[raint[19]].reset_index()['mos'].astype(float)\n",
    "srain20=data['mos'].iloc[raint[20]].reset_index()['mos'].astype(float)\n",
    "srain21=data['mos'].iloc[raint[21]].reset_index()['mos'].astype(float)\n",
    "srain22=data['mos'].iloc[raint[22]].reset_index()['mos'].astype(float)\n",
    "srain23=data['mos'].iloc[raint[23]].reset_index()['mos'].astype(float)\n",
    "srain24=data['mos'].iloc[raint[24]].reset_index()['mos'].astype(float)\n",
    "srain25=data['mos'].iloc[raint[25]].reset_index()['mos'].astype(float)\n",
    "srain26=data['mos'].iloc[raint[26]].reset_index()['mos'].astype(float)\n",
    "srain27=data['mos'].iloc[raint[27]].reset_index()['mos'].astype(float)\n",
    "srain28=data['mos'].iloc[raint[28]].reset_index()['mos'].astype(float)\n",
    "srain29=data['mos'].iloc[raint[29]].reset_index()['mos'].astype(float)\n",
    "srain30=data['mos'].iloc[raint[30]].reset_index()['mos'].astype(float)\n",
    "srain31=data['mos'].iloc[raint[31]].reset_index()['mos'].astype(float)\n",
    "srain32=data['mos'].iloc[raint[32]].reset_index()['mos'].astype(float)\n",
    "srain33=data['mos'].iloc[raint[33]].reset_index()['mos'].astype(float)\n",
    "srain34=data['mos'].iloc[raint[34]].reset_index()['mos'].astype(float)\n",
    "srain35=data['mos'].iloc[raint[35]].reset_index()['mos'].astype(float)\n",
    "srain36=data['mos'].iloc[raint[36]].reset_index()['mos'].astype(float)\n",
    "srain37=data['mos'].iloc[raint[37]].reset_index()['mos'].astype(float)\n",
    "srain38=data['mos'].iloc[raint[38]].reset_index()['mos'].astype(float)\n",
    "srain39=data['mos'].iloc[raint[39]].reset_index()['mos'].astype(float)\n",
    "srain40=data['mos'].iloc[raint[40]].reset_index()['mos'].astype(float)\n",
    "srain41=data['mos'].iloc[raint[41]].reset_index()['mos'].astype(float)\n",
    "srain42=data['mos'].iloc[raint[42]].reset_index()['mos'].astype(float)\n",
    "srain43=data['mos'].iloc[raint[43]].reset_index()['mos'].astype(float)\n",
    "srain44=data['mos'].iloc[raint[44]].reset_index()['mos'].astype(float)\n",
    "srain45=data['mos'].iloc[raint[45]].reset_index()['mos'].astype(float)\n",
    "srain46=data['mos'].iloc[raint[46]].reset_index()['mos'].astype(float)\n",
    "srain47=data['mos'].iloc[raint[47]].reset_index()['mos'].astype(float)\n",
    "srain48=data['mos'].iloc[raint[48]].reset_index()['mos'].astype(float)\n",
    "srain49=data['mos'].iloc[raint[49]].reset_index()['mos'].astype(float)\n",
    "srain50=data['mos'].iloc[raint[50]].reset_index()['mos'].astype(float)\n",
    "srain51=data['mos'].iloc[raint[51]].reset_index()['mos'].astype(float)\n",
    "srain52=data['mos'].iloc[raint[52]].reset_index()['mos'].astype(float)\n",
    "srain53=data['mos'].iloc[raint[53]].reset_index()['mos'].astype(float)\n",
    "srain54=data['mos'].iloc[raint[54]].reset_index()['mos'].astype(float)\n",
    "srain55=data['mos'].iloc[raint[55]].reset_index()['mos'].astype(float)\n",
    "srain56=data['mos'].iloc[raint[56]].reset_index()['mos'].astype(float)\n",
    "srain57=data['mos'].iloc[raint[57]].reset_index()['mos'].astype(float)\n",
    "srain58=data['mos'].iloc[raint[58]].reset_index()['mos'].astype(float)\n",
    "srain59=data['mos'].iloc[raint[59]].reset_index()['mos'].astype(float)\n",
    "srain60=data['mos'].iloc[raint[60]].reset_index()['mos'].astype(float)"
   ]
  },
  {
   "cell_type": "code",
   "execution_count": 13,
   "metadata": {},
   "outputs": [],
   "source": [
    "d = {'rain0':srain0[:-6]}\n",
    "k = pd.DataFrame(d)\n",
    "k['rain1']=(srain1-srain0[:-6])/(srain0)*100\n",
    "k['rain2']=(srain2-srain0[:-6])/(srain0)*100\n",
    "k['rain3']=(srain3-srain0[:-6])/(srain0)*100\n",
    "k['rain4']=(srain4-srain0[:-6])/(srain0)*100\n",
    "k['rain5']=(srain5-srain0[:-6])/(srain0)*100\n",
    "k['rain6']=(srain6-srain0[:-6])/(srain0)*100\n",
    "k['rain7']=(srain7-srain0[:-6])/(srain0)*100\n",
    "k['rain8']=(srain8-srain0[:-6])/(srain0)*100\n",
    "k['rain9']=(srain9-srain0[:-6])/(srain0)*100\n",
    "k['rain10']=(srain10-srain0[:-6])/(srain0)*100\n",
    "k['rain11']=(srain11-srain0[:-6])/(srain0)*100\n",
    "k['rain12']=(srain12-srain0[:-6])/(srain0)*100\n",
    "k['rain13']=(srain13-srain0[:-6])/(srain0)*100\n",
    "k['rain14']=(srain14-srain0[:-6])/(srain0)*100\n",
    "k['rain15']=(srain15-srain0[:-6])/(srain0)*100\n",
    "k['rain16']=(srain16-srain0[:-6])/(srain0)*100\n",
    "k['rain17']=(srain17-srain0[:-6])/(srain0)*100\n",
    "k['rain18']=(srain18-srain0[:-6])/(srain0)*100\n",
    "k['rain19']=(srain19-srain0[:-6])/(srain0)*100\n",
    "k['rain20']=(srain20-srain0[:-6])/(srain0)*100\n",
    "k['rain21']=(srain21-srain0[:-6])/(srain0)*100\n",
    "k['rain22']=(srain22-srain0[:-6])/(srain0)*100\n",
    "k['rain23']=(srain23-srain0[:-6])/(srain0)*100\n",
    "k['rain24']=(srain24-srain0[:-6])/(srain0)*100\n",
    "k['rain25']=(srain25-srain0[:-6])/(srain0)*100\n",
    "k['rain26']=(srain26-srain0[:-6])/(srain0)*100\n",
    "k['rain27']=(srain27-srain0[:-6])/(srain0)*100\n",
    "k['rain28']=(srain28-srain0[:-6])/(srain0)*100\n",
    "k['rain29']=(srain29-srain0[:-6])/(srain0)*100\n",
    "k['rain30']=(srain30-srain0[:-6])/(srain0)*100\n",
    "k['rain31']=(srain31-srain0[:-6])/(srain0)*100\n",
    "k['rain32']=(srain32-srain0[:-6])/(srain0)*100\n",
    "k['rain33']=(srain33-srain0[:-6])/(srain0)*100\n",
    "k['rain34']=(srain34-srain0[:-6])/(srain0)*100\n",
    "k['rain35']=(srain35-srain0[:-6])/(srain0)*100\n",
    "k['rain36']=(srain36-srain0[:-6])/(srain0)*100\n",
    "k['rain37']=(srain37-srain0[:-6])/(srain0)*100\n",
    "k['rain38']=(srain38-srain0[:-6])/(srain0)*100\n",
    "k['rain39']=(srain39-srain0[:-6])/(srain0)*100\n",
    "k['rain40']=(srain40-srain0[:-6])/(srain0)*100\n",
    "k['rain41']=(srain41-srain0[:-6])/(srain0)*100\n",
    "k['rain42']=(srain42-srain0[:-6])/(srain0)*100\n",
    "k['rain43']=(srain43-srain0[:-6])/(srain0)*100\n",
    "k['rain44']=(srain44-srain0[:-6])/(srain0)*100\n",
    "k['rain45']=(srain45-srain0[:-6])/(srain0)*100\n",
    "k['rain46']=(srain46-srain0[:-6])/(srain0)*100\n",
    "k['rain47']=(srain47-srain0[:-6])/(srain0)*100\n",
    "k['rain48']=(srain48-srain0[:-6])/(srain0)*100\n",
    "k['rain49']=(srain49-srain0[:-6])/(srain0)*100\n",
    "k['rain50']=(srain50-srain0[:-6])/(srain0)*100\n",
    "k['rain51']=(srain51-srain0[:-6])/(srain0)*100\n",
    "k['rain52']=(srain52-srain0[:-6])/(srain0)*100\n",
    "k['rain53']=(srain53-srain0[:-6])/(srain0)*100\n",
    "k['rain54']=(srain54-srain0[:-6])/(srain0)*100\n",
    "k['rain55']=(srain55-srain0[:-6])/(srain0)*100\n",
    "k['rain56']=(srain56-srain0[:-6])/(srain0)*100\n",
    "k['rain57']=(srain57-srain0[:-6])/(srain0)*100\n",
    "k['rain58']=(srain58-srain0[:-6])/(srain0)*100\n",
    "k['rain59']=(srain59-srain0[:-6])/(srain0)*100\n",
    "k['rain60']=(srain60-srain0[:-6])/(srain0)*100\n",
    "dk=k.drop(k.index[270:280])\n",
    "a=dk.mean()\n",
    "mk = pd.DataFrame(a,columns=['increase (%)'])\n",
    "mk=mk.drop(mk.index[0:2])\n",
    "mk=mk.iloc[:43]"
   ]
  },
  {
   "cell_type": "code",
   "execution_count": 14,
   "metadata": {},
   "outputs": [],
   "source": [
    "xx=np.arange(1,44)\n",
    "yy=mk['increase (%)']"
   ]
  },
  {
   "cell_type": "markdown",
   "metadata": {},
   "source": [
    "훈련 세트와 테스트 세트 7대3비율 설정"
   ]
  },
  {
   "cell_type": "code",
   "execution_count": 15,
   "metadata": {},
   "outputs": [],
   "source": [
    "Xtrain, Xtest, ytrain, ytest = train_test_split(xx,yy,train_size=0.7,test_size=0.3,random_state=1)\n",
    "Xtrain=np.array(Xtrain).reshape(-1,1)\n",
    "ytrain=np.array(ytrain).reshape(-1,1)\n",
    "Xtest=np.array(Xtest).reshape(-1,1)\n",
    "ytest=np.array(ytest).reshape(-1,1)"
   ]
  },
  {
   "cell_type": "markdown",
   "metadata": {},
   "source": [
    "훈련세트 그래프 표시"
   ]
  },
  {
   "cell_type": "code",
   "execution_count": 16,
   "metadata": {},
   "outputs": [
    {
     "data": {
      "image/png": "[encoded data removed]",
      "text/plain": [
       "<Figure size 432x288 with 1 Axes>"
      ]
     },
     "metadata": {
      "needs_background": "light"
     },
     "output_type": "display_data"
    }
   ],
   "source": [
    "plt.plot(Xtrain, ytrain, \"b.\")\n",
    "plt.show()"
   ]
  },
  {
   "cell_type": "code",
   "execution_count": 17,
   "metadata": {},
   "outputs": [],
   "source": [
    "def PolynomialRegression(degree=2, **kwargs):\n",
    " return make_pipeline(PolynomialFeatures(degree),\n",
    " LinearRegression(**kwargs))"
   ]
  },
  {
   "cell_type": "code",
   "execution_count": 18,
   "metadata": {},
   "outputs": [
    {
     "data": {
      "text/plain": [
       "(500, 1)"
      ]
     },
     "execution_count": 18,
     "metadata": {},
     "output_type": "execute_result"
    }
   ],
   "source": [
    "X_test = np.linspace(-0.1,43, 500).reshape(-1,1)\n",
    "X_test.shape"
   ]
  },
  {
   "cell_type": "markdown",
   "metadata": {},
   "source": [
    "선형회귀분석 degree별 모델 그래프"
   ]
  },
  {
   "cell_type": "code",
   "execution_count": 24,
   "metadata": {},
   "outputs": [
    {
     "data": {
      "image/png": "[encoded data removed]",
      "text/plain": [
       "<Figure size 432x288 with 1 Axes>"
      ]
     },
     "metadata": {
      "needs_background": "light"
     },
     "output_type": "display_data"
    }
   ],
   "source": [
    "plt.scatter(Xtrain.ravel(), ytrain, color='black')\n",
    "for degree in [1, 3, 5]:\n",
    "    y_test = PolynomialRegression(degree).fit(Xtrain, ytrain).predict(X_test)\n",
    "    plt.plot(X_test.ravel(), y_test, label='degree={0}'.format(degree))\n",
    "\n",
    "plt.legend(loc='best')\n",
    "plt.show()"
   ]
  },
  {
   "cell_type": "markdown",
   "metadata": {},
   "source": [
    "각 degree별 검증곡선"
   ]
  },
  {
   "cell_type": "code",
   "execution_count": 20,
   "metadata": {},
   "outputs": [
    {
     "data": {
      "text/plain": [
       "Text(0, 0.5, 'score')"
      ]
     },
     "execution_count": 20,
     "metadata": {},
     "output_type": "execute_result"
    },
    {
     "data": {
      "image/png": "[encoded data removed]",
      "text/plain": [
       "<Figure size 432x288 with 1 Axes>"
      ]
     },
     "metadata": {
      "needs_background": "light"
     },
     "output_type": "display_data"
    }
   ],
   "source": [
    "from sklearn.model_selection import validation_curve\n",
    "degree = np.arange(0, 21)\n",
    "train_score, val_score = validation_curve(PolynomialRegression(),\n",
    "                                          Xtrain,ytrain,'polynomialfeatures__degree'\n",
    "                                         ,degree)\n",
    "plt.plot(degree, np.median(train_score, 1), color='blue', label='training score')\n",
    "plt.plot(degree, np.median(val_score, 1), color='red', label='validation score')\n",
    "plt.legend(loc='best')\n",
    "plt.xlabel('degree')\n",
    "plt.ylabel('score')"
   ]
  },
  {
   "cell_type": "markdown",
   "metadata": {},
   "source": [
    "검증 곡선을 통해 모델의 degree를  5로 결정\n",
    "모델"
   ]
  },
  {
   "cell_type": "code",
   "execution_count": 21,
   "metadata": {},
   "outputs": [
    {
     "name": "stderr",
     "output_type": "stream",
     "text": [
      "D:\\anaconda\\lib\\site-packages\\matplotlib\\backends\\backend_agg.py:211: RuntimeWarning: Glyph 44053 missing from current font.\n",
      "  font.set_text(s, 0.0, flags=flags)\n",
      "D:\\anaconda\\lib\\site-packages\\matplotlib\\backends\\backend_agg.py:211: RuntimeWarning: Glyph 49688 missing from current font.\n",
      "  font.set_text(s, 0.0, flags=flags)\n",
      "D:\\anaconda\\lib\\site-packages\\matplotlib\\backends\\backend_agg.py:211: RuntimeWarning: Glyph 54980 missing from current font.\n",
      "  font.set_text(s, 0.0, flags=flags)\n",
      "D:\\anaconda\\lib\\site-packages\\matplotlib\\backends\\backend_agg.py:211: RuntimeWarning: Glyph 49884 missing from current font.\n",
      "  font.set_text(s, 0.0, flags=flags)\n",
      "D:\\anaconda\\lib\\site-packages\\matplotlib\\backends\\backend_agg.py:211: RuntimeWarning: Glyph 44036 missing from current font.\n",
      "  font.set_text(s, 0.0, flags=flags)\n",
      "D:\\anaconda\\lib\\site-packages\\matplotlib\\backends\\backend_agg.py:211: RuntimeWarning: Glyph 48320 missing from current font.\n",
      "  font.set_text(s, 0.0, flags=flags)\n",
      "D:\\anaconda\\lib\\site-packages\\matplotlib\\backends\\backend_agg.py:211: RuntimeWarning: Glyph 54868 missing from current font.\n",
      "  font.set_text(s, 0.0, flags=flags)\n",
      "D:\\anaconda\\lib\\site-packages\\matplotlib\\backends\\backend_agg.py:211: RuntimeWarning: Glyph 51068 missing from current font.\n",
      "  font.set_text(s, 0.0, flags=flags)\n",
      "D:\\anaconda\\lib\\site-packages\\matplotlib\\backends\\backend_agg.py:180: RuntimeWarning: Glyph 44053 missing from current font.\n",
      "  font.set_text(s, 0, flags=flags)\n",
      "D:\\anaconda\\lib\\site-packages\\matplotlib\\backends\\backend_agg.py:180: RuntimeWarning: Glyph 49688 missing from current font.\n",
      "  font.set_text(s, 0, flags=flags)\n",
      "D:\\anaconda\\lib\\site-packages\\matplotlib\\backends\\backend_agg.py:180: RuntimeWarning: Glyph 54980 missing from current font.\n",
      "  font.set_text(s, 0, flags=flags)\n",
      "D:\\anaconda\\lib\\site-packages\\matplotlib\\backends\\backend_agg.py:180: RuntimeWarning: Glyph 49884 missing from current font.\n",
      "  font.set_text(s, 0, flags=flags)\n",
      "D:\\anaconda\\lib\\site-packages\\matplotlib\\backends\\backend_agg.py:180: RuntimeWarning: Glyph 44036 missing from current font.\n",
      "  font.set_text(s, 0, flags=flags)\n",
      "D:\\anaconda\\lib\\site-packages\\matplotlib\\backends\\backend_agg.py:180: RuntimeWarning: Glyph 48320 missing from current font.\n",
      "  font.set_text(s, 0, flags=flags)\n",
      "D:\\anaconda\\lib\\site-packages\\matplotlib\\backends\\backend_agg.py:180: RuntimeWarning: Glyph 54868 missing from current font.\n",
      "  font.set_text(s, 0, flags=flags)\n",
      "D:\\anaconda\\lib\\site-packages\\matplotlib\\backends\\backend_agg.py:180: RuntimeWarning: Glyph 51068 missing from current font.\n",
      "  font.set_text(s, 0, flags=flags)\n",
      "D:\\anaconda\\lib\\site-packages\\matplotlib\\backends\\backend_agg.py:211: RuntimeWarning: Glyph 47784 missing from current font.\n",
      "  font.set_text(s, 0.0, flags=flags)\n",
      "D:\\anaconda\\lib\\site-packages\\matplotlib\\backends\\backend_agg.py:211: RuntimeWarning: Glyph 44592 missing from current font.\n",
      "  font.set_text(s, 0.0, flags=flags)\n",
      "D:\\anaconda\\lib\\site-packages\\matplotlib\\backends\\backend_agg.py:211: RuntimeWarning: Glyph 52292 missing from current font.\n",
      "  font.set_text(s, 0.0, flags=flags)\n",
      "D:\\anaconda\\lib\\site-packages\\matplotlib\\backends\\backend_agg.py:211: RuntimeWarning: Glyph 51665 missing from current font.\n",
      "  font.set_text(s, 0.0, flags=flags)\n",
      "D:\\anaconda\\lib\\site-packages\\matplotlib\\backends\\backend_agg.py:211: RuntimeWarning: Glyph 47049 missing from current font.\n",
      "  font.set_text(s, 0.0, flags=flags)\n",
      "D:\\anaconda\\lib\\site-packages\\matplotlib\\backends\\backend_agg.py:211: RuntimeWarning: Glyph 51613 missing from current font.\n",
      "  font.set_text(s, 0.0, flags=flags)\n",
      "D:\\anaconda\\lib\\site-packages\\matplotlib\\backends\\backend_agg.py:211: RuntimeWarning: Glyph 44032 missing from current font.\n",
      "  font.set_text(s, 0.0, flags=flags)\n",
      "D:\\anaconda\\lib\\site-packages\\matplotlib\\backends\\backend_agg.py:211: RuntimeWarning: Glyph 50984 missing from current font.\n",
      "  font.set_text(s, 0.0, flags=flags)\n",
      "D:\\anaconda\\lib\\site-packages\\matplotlib\\backends\\backend_agg.py:180: RuntimeWarning: Glyph 47784 missing from current font.\n",
      "  font.set_text(s, 0, flags=flags)\n",
      "D:\\anaconda\\lib\\site-packages\\matplotlib\\backends\\backend_agg.py:180: RuntimeWarning: Glyph 44592 missing from current font.\n",
      "  font.set_text(s, 0, flags=flags)\n",
      "D:\\anaconda\\lib\\site-packages\\matplotlib\\backends\\backend_agg.py:180: RuntimeWarning: Glyph 52292 missing from current font.\n",
      "  font.set_text(s, 0, flags=flags)\n",
      "D:\\anaconda\\lib\\site-packages\\matplotlib\\backends\\backend_agg.py:180: RuntimeWarning: Glyph 51665 missing from current font.\n",
      "  font.set_text(s, 0, flags=flags)\n",
      "D:\\anaconda\\lib\\site-packages\\matplotlib\\backends\\backend_agg.py:180: RuntimeWarning: Glyph 47049 missing from current font.\n",
      "  font.set_text(s, 0, flags=flags)\n",
      "D:\\anaconda\\lib\\site-packages\\matplotlib\\backends\\backend_agg.py:180: RuntimeWarning: Glyph 51613 missing from current font.\n",
      "  font.set_text(s, 0, flags=flags)\n",
      "D:\\anaconda\\lib\\site-packages\\matplotlib\\backends\\backend_agg.py:180: RuntimeWarning: Glyph 44032 missing from current font.\n",
      "  font.set_text(s, 0, flags=flags)\n",
      "D:\\anaconda\\lib\\site-packages\\matplotlib\\backends\\backend_agg.py:180: RuntimeWarning: Glyph 50984 missing from current font.\n",
      "  font.set_text(s, 0, flags=flags)\n"
     ]
    },
    {
     "data": {
      "image/png": "[encoded data removed]",
      "text/plain": [
       "<Figure size 432x288 with 1 Axes>"
      ]
     },
     "metadata": {
      "needs_background": "light"
     },
     "output_type": "display_data"
    }
   ],
   "source": [
    "pmodel=PolynomialRegression(5)\n",
    "pmodel.fit(Xtrain, ytrain)\n",
    "y_test = pmodel.predict(X_test)\n",
    "plt.plot(X_test.ravel(), y_test, label='테스트 값'.format(5))\n",
    "plt.rc('font', family='NanumGothic')\n",
    "plt.scatter(Xtest,ytest,color='r',label=\"테스트 실제값\")\n",
    "plt.plot(Xtrain, ytrain, \"b.\",label=\"훈련한 값\")\n",
    "plt.legend(loc='upper left',fontsize=8)\n",
    "plt.ylabel(\"모기채집량 증가율(%)\")\n",
    "plt.xlabel(\"강수 후 시간변화 (일)\")\n",
    "plt.show()"
   ]
  },
  {
   "cell_type": "markdown",
   "metadata": {},
   "source": [
    "모델 정확도"
   ]
  },
  {
   "cell_type": "code",
   "execution_count": 22,
   "metadata": {},
   "outputs": [
    {
     "name": "stdout",
     "output_type": "stream",
     "text": [
      "훈련 세트 정확도: 0.984\n",
      "테스트 세트 정확도: 0.936\n"
     ]
    }
   ],
   "source": [
    "print(\"훈련 세트 정확도: {:.3f}\".format(pmodel.score(Xtrain, ytrain)))\n",
    "print(\"테스트 세트 정확도: {:.3f}\".format(pmodel.score(Xtest, ytest)))"
   ]
  }
 ],
 "metadata": {
  "kernelspec": {
   "display_name": "Python 3",
   "language": "python",
   "name": "python3"
  },
  "language_info": {
   "codemirror_mode": {
    "name": "ipython",
    "version": 3
   },
   "file_extension": ".py",
   "mimetype": "text/x-python",
   "name": "python",
   "nbconvert_exporter": "python",
   "pygments_lexer": "ipython3",
   "version": "3.7.6"
  }
 },
 "nbformat": 4,
 "nbformat_minor": 4
}
